{
  "nbformat": 4,
  "nbformat_minor": 0,
  "metadata": {
    "colab": {
      "name": "Privacy.ipynb",
      "version": "0.3.2",
      "provenance": [],
      "collapsed_sections": []
    },
    "kernelspec": {
      "name": "python3",
      "display_name": "Python 3"
    }
  },
  "cells": [
    {
      "metadata": {
        "id": "JerKRMCS4LdN",
        "colab_type": "text"
      },
      "cell_type": "markdown",
      "source": [
        "## Centralized Learning\n"
      ]
    },
    {
      "metadata": {
        "id": "CQ2bhq0G4KUZ",
        "colab_type": "code",
        "colab": {}
      },
      "cell_type": "code",
      "source": [
        "# For Privacy \n",
        "import syft as sy\n",
        "# For Machine Learning \n",
        "from torch import nn, optim\n",
        "\n",
        "# A Toy Dataset\n",
        "data = sy.Var(sy.FloatTensor([[0,0],[0,1],[1,0],[1,1]]))\n",
        "target = sy.Var(sy.FloatTensor([[0],[0],[1],[1]]))\n",
        "\n",
        "# A Toy Model\n",
        "model = nn.Linear(2,1)\n",
        "\n",
        "def train():\n",
        "    # Training Logic\n",
        "    opt = optim.SGD(params=model.parameters(),lr=0.1)\n",
        "    for iter in range(20):\n",
        "\n",
        "        # 1) erase previous gradients (if they exist)\n",
        "        opt.zero_grad()\n",
        "\n",
        "        # 2) make a prediction\n",
        "        pred = model(data)\n",
        "\n",
        "        # 3) calculate how much the missed\n",
        "        loss = ((pred - target)**2).sum()\n",
        "\n",
        "        # 4) figure out which weights caused us to miss\n",
        "        loss.backward()\n",
        "\n",
        "        # 5) change those weights\n",
        "        opt.step()\n",
        "\n",
        "        # 6) print our progress\n",
        "        print(loss.data[0])"
      ],
      "execution_count": 0,
      "outputs": []
    },
    {
      "metadata": {
        "id": "G3djwO3w4lxE",
        "colab_type": "code",
        "colab": {
          "base_uri": "https://localhost:8080/",
          "height": 374
        },
        "outputId": "1c3006bc-9513-4d44-9f3e-38b56de3e1e6"
      },
      "cell_type": "code",
      "source": [
        "#train the model! \n",
        "train() "
      ],
      "execution_count": 2,
      "outputs": [
        {
          "output_type": "stream",
          "text": [
            " \n",
            "0.7935236096382141\n",
            "0.21217259764671326\n",
            "0.12388776242733002\n",
            "0.08632121235132217\n",
            "0.06183892861008644\n",
            "0.044710226356983185\n",
            "0.0325467512011528\n",
            "0.02383730188012123\n",
            "0.017555570229887962\n",
            "0.012994087301194668\n",
            "0.009660916402935982\n",
            "0.007211238145828247\n",
            "0.005401470698416233\n",
            "0.004058181773871183\n",
            "0.003056995337828994\n",
            "0.002308045281097293\n",
            "0.0017459806986153126\n",
            "0.0013229941250756383\n",
            "0.0010039110202342272\n",
            "0.0007627044105902314\n"
          ],
          "name": "stdout"
        }
      ]
    },
    {
      "metadata": {
        "id": "J4fFR33Q5Bu4",
        "colab_type": "text"
      },
      "cell_type": "markdown",
      "source": [
        "## Federated Learning (multiple data sources)"
      ]
    },
    {
      "metadata": {
        "id": "xV8f10MQ4_jf",
        "colab_type": "code",
        "colab": {}
      },
      "cell_type": "code",
      "source": [
        "# NEW - create 2 different users\n",
        "\n",
        "bob = sy.VirtualWorker(id=\"jack\")\n",
        "alice = sy.VirtualWorker(id=\"jill\")\n",
        "\n",
        "# get pointers to training data on each worker by\n",
        "# sending some training data to jack and jill\n",
        "data_jack = data[0:2].send(jack)\n",
        "target_jack = target[0:2].send(jack)\n",
        "\n",
        "data_jill = data[2:].send(jill)\n",
        "target_jill = target[2:].send(jill)\n",
        "\n",
        "# organize pointers into a list\n",
        "datasets = [(data_jack,target_jack),(data_jill,target_jill)]\n",
        "\n",
        "# Initalize A Toy Model\n",
        "model = nn.Linear(2,1)\n",
        "\n",
        "def train():\n",
        "    # Training Logic\n",
        "    opt = optim.SGD(params=model.parameters(),lr=0.1)\n",
        "    for iter in range(20):\n",
        "        \n",
        "        # NEW) iterate through each worker's dataset\n",
        "        for data,target in datasets:\n",
        "            \n",
        "            # NEW) send model to correct worker\n",
        "            model.send(data.location)\n",
        "\n",
        "            # 1) erase previous gradients (if they exist)\n",
        "            opt.zero_grad()\n",
        "\n",
        "            # 2) make a prediction\n",
        "            pred = model(data)\n",
        "\n",
        "            # 3) calculate how much the missed\n",
        "            loss = ((pred - target)**2).sum()\n",
        "\n",
        "            # 4) figure out which weights caused us to miss\n",
        "            loss.backward()\n",
        "\n",
        "            # NEW) get model (with gradients)\n",
        "            model.get()\n",
        "\n",
        "            # 5) change those weights\n",
        "            opt.step()\n",
        "\n",
        "            # 6) print our progress\n",
        "            print(loss.get().data[0]) # NEW) slight edit... need to call .get() on loss"
      ],
      "execution_count": 0,
      "outputs": []
    },
    {
      "metadata": {
        "id": "x5Smd99b5k1J",
        "colab_type": "code",
        "colab": {
          "base_uri": "https://localhost:8080/",
          "height": 374
        },
        "outputId": "932411d9-3fc9-4a9a-9859-c248644fadfa"
      },
      "cell_type": "code",
      "source": [
        "train()"
      ],
      "execution_count": 3,
      "outputs": [
        {
          "output_type": "stream",
          "text": [
            "\n",
            "\n",
            "0.49059900641441345\n",
            "0.48288848996162415\n",
            "0.5257140398025513\n",
            "0.20319302380084991\n",
            "0.3727419972419739\n",
            "0.14014576375484467\n",
            "0.2604595422744751\n",
            "0.10102146863937378\n",
            "0.18343526124954224\n",
            "0.07364650815725327\n",
            "0.13027068972587585\n",
            "0.05409587174654007\n",
            "0.0932079330086708\n",
            "0.039966512471437454\n",
            "0.06712788343429565\n",
            "0.029659217223525047\n",
            "0.04862105846405029\n",
            "0.022084159776568413\n",
            "0.03538985550403595\n"
          ],
          "name": "stdout"
        }
      ]
    },
    {
      "metadata": {
        "id": "VN6BL6Yr5rqA",
        "colab_type": "text"
      },
      "cell_type": "markdown",
      "source": [
        "## Secure Multi Party Computation "
      ]
    },
    {
      "metadata": {
        "id": "gCUxuM5A5u9p",
        "colab_type": "code",
        "colab": {
          "base_uri": "https://localhost:8080/",
          "height": 34
        },
        "outputId": "7fb5daab-8358-4f75-9348-7bdf0930ad3c"
      },
      "cell_type": "code",
      "source": [
        "# We can Encrypt with SMPC!\n",
        "\n",
        "Q = 1234567891011\n",
        "\n",
        "x = 25\n",
        "\n",
        "import random\n",
        "\n",
        "def encrypt(x):\n",
        "    share_a = random.randint(0,Q)\n",
        "    share_b = random.randint(0,Q)\n",
        "    share_c = (x - share_a - share_b) % Q\n",
        "    return (share_a, share_b,  share_c)\n",
        "  \n",
        "  \n",
        "encrypt(x)"
      ],
      "execution_count": 4,
      "outputs": [
        {
          "output_type": "stream",
          "text": [
            "508598083450, 1210525625153, 750012073444\n"
          ],
          "name": "stdout"
        }
      ]
    },
    {
      "metadata": {
        "id": "HgsLRDab6kfb",
        "colab_type": "code",
        "colab": {
          "base_uri": "https://localhost:8080/",
          "height": 34
        },
        "outputId": "3ba000dc-9878-4845-e44e-efb8cef2205d"
      },
      "cell_type": "code",
      "source": [
        "# We can Decrypt with SMPC! \n",
        "def decrypt(*shares):\n",
        "    return sum(shares) % Q\n",
        "  \n",
        "  \n",
        "a,b,c = encrypt(25)\n",
        "\n",
        "decrypt(a, b, c)"
      ],
      "execution_count": 5,
      "outputs": [
        {
          "output_type": "stream",
          "text": [
            "25\n"
          ],
          "name": "stdout"
        }
      ]
    },
    {
      "metadata": {
        "id": "vLJEw0zS6m5z",
        "colab_type": "code",
        "colab": {
          "base_uri": "https://localhost:8080/",
          "height": 34
        },
        "outputId": "b0b10391-4b63-454d-c0f9-4f70e9285115"
      },
      "cell_type": "code",
      "source": [
        "# We can even perform operations on encrypted data with SMPC!\n",
        "x = encrypt(25)\n",
        "y = encrypt(5)\n",
        "\n",
        "def add(x, y):\n",
        "    z = list()\n",
        "    # the first worker adds their shares together\n",
        "    z.append((x[0] + y[0]) % Q)\n",
        "    \n",
        "    # the second worker adds their shares together\n",
        "    z.append((x[1] + y[1]) % Q)\n",
        "    \n",
        "    # the third worker adds their shares together\n",
        "    z.append((x[2] + y[2]) % Q)\n",
        "    \n",
        "    return z\n",
        "  \n",
        "decrypt(*add(x,y))"
      ],
      "execution_count": 6,
      "outputs": [
        {
          "output_type": "stream",
          "text": [
            "30\n"
          ],
          "name": "stdout"
        }
      ]
    },
    {
      "metadata": {
        "id": "LWR6jYvM748K",
        "colab_type": "text"
      },
      "cell_type": "markdown",
      "source": [
        "# Secure Multi Party Computation on an encrypted neural network + encrypted data"
      ]
    },
    {
      "metadata": {
        "id": "eUFiO8Hn7jNl",
        "colab_type": "code",
        "colab": {
          "base_uri": "https://localhost:8080/",
          "height": 221
        },
        "outputId": "688130d9-caf4-4a22-b245-1577c2ca05e0"
      },
      "cell_type": "code",
      "source": [
        "#for privacy \n",
        "import syft as sy\n",
        "#for diabetes image data \n",
        "import my_dataset\n",
        "\n",
        "# Step 1 - Create 3 data sources\n",
        "me = local_worker\n",
        "bob = sy.VirtualWorker(id=\"bob\", is_client_worker=False)\n",
        "alice = sy.VirtualWorker(id=\"alice\", is_client_worker=False)\n",
        "\n",
        "# Step 2 - import our imagedataset\n",
        "data, target = my_dataset.import()\n",
        "\n",
        "# Step 3 - Create our neural network\n",
        "model = sy.zeros(2,1)\n",
        "\n",
        "# Step 4 - encrypt the model and encrypt the data\n",
        "data = data.fix_precision().share(alice, bob)\n",
        "target = target.fix_precision().share(alice, bob)\n",
        "model = model.fix_precision().share(alice, bob)\n",
        "\n",
        "# Step 5 - train!\n",
        "for i in range(10):\n",
        "    pred = data.mm(model)\n",
        "    grad = pred - target\n",
        "    update = data.transpose(0,1).mm(grad)\n",
        "\n",
        "    model = model - update * 0.1\n",
        "    loss = grad.get().decode().abs().sum()\n",
        "    print(loss)"
      ],
      "execution_count": 7,
      "outputs": [
        {
          "output_type": "stream",
          "text": [
            " \n",
            "2.0\n",
            "1.6000000014901161\n",
            "1.2999999821186066\n",
            "1.0720000118017197\n",
            "0.896000012755394\n",
            "0.7599999904632568\n",
            "0.6499999910593033\n",
            "0.5619999840855598\n",
            "0.4880000092089176\n",
            "0.42799999564886093\n",
            "\n"
          ],
          "name": "stdout"
        }
      ]
    }
  ]
}